{
  "nbformat": 4,
  "nbformat_minor": 0,
  "metadata": {
    "colab": {
      "name": "Final Tennis Model.ipynb",
      "provenance": [],
      "collapsed_sections": []
    },
    "kernelspec": {
      "name": "python3",
      "display_name": "Python 3"
    },
    "language_info": {
      "name": "python"
    }
  },
  "cells": [
    {
      "cell_type": "code",
      "metadata": {
        "colab": {
          "base_uri": "https://localhost:8080/"
        },
        "id": "pnMZ5e48KXHO",
        "outputId": "ea51c3e9-aa2c-46b0-854f-db20fdbf0ba8"
      },
      "source": [
        "from google.colab import drive\n",
        "drive.mount('/content/drive')"
      ],
      "execution_count": null,
      "outputs": [
        {
          "output_type": "stream",
          "text": [
            "Mounted at /content/drive\n"
          ],
          "name": "stdout"
        }
      ]
    },
    {
      "cell_type": "markdown",
      "metadata": {
        "id": "2pKzWZK6KjhJ"
      },
      "source": [
        "Utils"
      ]
    },
    {
      "cell_type": "code",
      "metadata": {
        "id": "Q_GYN2IkKbVR"
      },
      "source": [
        "import pandas as pd\n",
        "def load (path):  \n",
        "  df = pd.read_csv(path)    \n",
        "  return df "
      ],
      "execution_count": null,
      "outputs": []
    },
    {
      "cell_type": "code",
      "metadata": {
        "id": "xFXmTW6RKhUA"
      },
      "source": [
        "def features_type (df) : \n",
        "  numerical = df.dtypes[df.dtypes != \"object\"].index\n",
        "  non_num = []\n",
        "  for x in  list(df.columns) : \n",
        "      if x not in numerical : \n",
        "          non_num.append(x)\n",
        "  return numerical , non_num"
      ],
      "execution_count": null,
      "outputs": []
    },
    {
      "cell_type": "code",
      "metadata": {
        "id": "NySD4elyKwKP"
      },
      "source": [
        "def splitting_data (df) : \n",
        "  df = df.sample(frac=1).reset_index(drop=True)\n",
        "  train,test = df[:2700] , df[2700:]\n",
        "  return train,test\n"
      ],
      "execution_count": null,
      "outputs": []
    },
    {
      "cell_type": "markdown",
      "metadata": {
        "id": "-TCC5HuTKkn7"
      },
      "source": [
        "Live data"
      ]
    },
    {
      "cell_type": "code",
      "metadata": {
        "id": "x-puhNSWKjEY"
      },
      "source": [
        "data = load ('/content/drive/MyDrive/Tennis.csv')"
      ],
      "execution_count": null,
      "outputs": []
    },
    {
      "cell_type": "code",
      "metadata": {
        "id": "tS7zpi-tKq5g"
      },
      "source": [
        "train,test = splitting_data (data)"
      ],
      "execution_count": null,
      "outputs": []
    },
    {
      "cell_type": "code",
      "metadata": {
        "colab": {
          "base_uri": "https://localhost:8080/",
          "height": 203
        },
        "id": "tAdqf2PwMj0p",
        "outputId": "16dc11fc-40f7-4b03-ce6a-b1de570db201"
      },
      "source": [
        "train.head(1)"
      ],
      "execution_count": null,
      "outputs": [
        {
          "output_type": "execute_result",
          "data": {
            "text/html": [
              "<div>\n",
              "<style scoped>\n",
              "    .dataframe tbody tr th:only-of-type {\n",
              "        vertical-align: middle;\n",
              "    }\n",
              "\n",
              "    .dataframe tbody tr th {\n",
              "        vertical-align: top;\n",
              "    }\n",
              "\n",
              "    .dataframe thead th {\n",
              "        text-align: right;\n",
              "    }\n",
              "</style>\n",
              "<table border=\"1\" class=\"dataframe\">\n",
              "  <thead>\n",
              "    <tr style=\"text-align: right;\">\n",
              "      <th></th>\n",
              "      <th>Unnamed: 0</th>\n",
              "      <th>tourney_name</th>\n",
              "      <th>surface</th>\n",
              "      <th>draw_size</th>\n",
              "      <th>tourney_level</th>\n",
              "      <th>tourney_date</th>\n",
              "      <th>match_num</th>\n",
              "      <th>best_of</th>\n",
              "      <th>round</th>\n",
              "      <th>Match</th>\n",
              "      <th>Player_Side1</th>\n",
              "      <th>Player_Side2</th>\n",
              "      <th>PS1_age</th>\n",
              "      <th>PS1_country</th>\n",
              "      <th>PS1_hand</th>\n",
              "      <th>PS1_height</th>\n",
              "      <th>PS1_points</th>\n",
              "      <th>PS1_rank</th>\n",
              "      <th>PS2_age</th>\n",
              "      <th>PS2_country</th>\n",
              "      <th>PS2_hand</th>\n",
              "      <th>PS2_height</th>\n",
              "      <th>PS2_points</th>\n",
              "      <th>PS2_rank</th>\n",
              "      <th>winner</th>\n",
              "    </tr>\n",
              "  </thead>\n",
              "  <tbody>\n",
              "    <tr>\n",
              "      <th>0</th>\n",
              "      <td>811</td>\n",
              "      <td>Us Open</td>\n",
              "      <td>Hard</td>\n",
              "      <td>128</td>\n",
              "      <td>G</td>\n",
              "      <td>20200831</td>\n",
              "      <td>218</td>\n",
              "      <td>5</td>\n",
              "      <td>R16</td>\n",
              "      <td>Alex De Minaur vs Vasek Pospisil</td>\n",
              "      <td>Alex De Minaur</td>\n",
              "      <td>Vasek Pospisil</td>\n",
              "      <td>20.884326</td>\n",
              "      <td>AUS</td>\n",
              "      <td>R</td>\n",
              "      <td>183.0</td>\n",
              "      <td>1775.0</td>\n",
              "      <td>18.0</td>\n",
              "      <td>29.557837</td>\n",
              "      <td>CAN</td>\n",
              "      <td>R</td>\n",
              "      <td>193.0</td>\n",
              "      <td>360.0</td>\n",
              "      <td>146.0</td>\n",
              "      <td>1.0</td>\n",
              "    </tr>\n",
              "  </tbody>\n",
              "</table>\n",
              "</div>"
            ],
            "text/plain": [
              "   Unnamed: 0 tourney_name surface  ...  PS2_points PS2_rank  winner\n",
              "0         811      Us Open    Hard  ...       360.0    146.0     1.0\n",
              "\n",
              "[1 rows x 25 columns]"
            ]
          },
          "metadata": {
            "tags": []
          },
          "execution_count": 34
        }
      ]
    },
    {
      "cell_type": "code",
      "metadata": {
        "id": "TXkmsNruKzLD"
      },
      "source": [
        "_ , non_num = features_type (data.drop(['winner','Unnamed: 0','tourney_level','draw_size'],axis=1))"
      ],
      "execution_count": null,
      "outputs": []
    },
    {
      "cell_type": "code",
      "metadata": {
        "id": "fzNMIk4fQ0kQ"
      },
      "source": [
        "data.winner = data.winner.astype('int64')"
      ],
      "execution_count": null,
      "outputs": []
    },
    {
      "cell_type": "markdown",
      "metadata": {
        "id": "Lu2gZuGOPpLG"
      },
      "source": [
        "Adding features"
      ]
    },
    {
      "cell_type": "code",
      "metadata": {
        "id": "WJ3DIRDYPrOg"
      },
      "source": [
        "data['rank_difference'] = data['PS1_rank']**2 - data['PS2_rank']**2\n",
        "data['points_difference'] = data['PS1_points']**2 - data['PS2_points']**2"
      ],
      "execution_count": null,
      "outputs": []
    },
    {
      "cell_type": "markdown",
      "metadata": {
        "id": "UqFThNZfK3xF"
      },
      "source": [
        "Model"
      ]
    },
    {
      "cell_type": "code",
      "metadata": {
        "id": "yvC7SgybK1qH"
      },
      "source": [
        "\n",
        "class CFG_Catboost :\n",
        "  SEED = 42\n",
        "  n_splits = 5\n",
        "  \n",
        "  catboost_params = {'learning_rate':0.05,'iterations':10000,'eval_metric':'Accuracy',\n",
        "                      'use_best_model' :True,'verbose':100,'random_seed': 0,'max_depth':3}\n",
        "  remove_features = ['winner','Unnamed: 0','tourney_level','draw_size']\n",
        "  categ_features = non_num\n",
        "  TARGET_COL = 'winner'"
      ],
      "execution_count": null,
      "outputs": []
    },
    {
      "cell_type": "code",
      "metadata": {
        "id": "DgRuUC73K5XO"
      },
      "source": [
        "def features_utils (train):\n",
        "  features_columns = [col for col in train.columns if col not in CFG_Catboost.remove_features]\n",
        "  return features_columns"
      ],
      "execution_count": null,
      "outputs": []
    },
    {
      "cell_type": "code",
      "metadata": {
        "id": "k6HlCIxOK7aF"
      },
      "source": [
        "features_columns = features_utils (train)"
      ],
      "execution_count": null,
      "outputs": []
    },
    {
      "cell_type": "code",
      "metadata": {
        "id": "D6u4i8EtzFEY",
        "colab": {
          "base_uri": "https://localhost:8080/"
        },
        "outputId": "bf551252-5647-46bb-d03d-5d32bdf78dd4"
      },
      "source": [
        "features_columns"
      ],
      "execution_count": null,
      "outputs": [
        {
          "output_type": "execute_result",
          "data": {
            "text/plain": [
              "['tourney_name',\n",
              " 'surface',\n",
              " 'tourney_date',\n",
              " 'match_num',\n",
              " 'best_of',\n",
              " 'round',\n",
              " 'Match',\n",
              " 'Player_Side1',\n",
              " 'Player_Side2',\n",
              " 'PS1_age',\n",
              " 'PS1_country',\n",
              " 'PS1_hand',\n",
              " 'PS1_height',\n",
              " 'PS1_points',\n",
              " 'PS1_rank',\n",
              " 'PS2_age',\n",
              " 'PS2_country',\n",
              " 'PS2_hand',\n",
              " 'PS2_height',\n",
              " 'PS2_points',\n",
              " 'PS2_rank']"
            ]
          },
          "metadata": {
            "tags": []
          },
          "execution_count": 41
        }
      ]
    },
    {
      "cell_type": "code",
      "metadata": {
        "id": "QqGJLHLOK86Q"
      },
      "source": [
        "def divide_train (train):\n",
        "  skf = StratifiedKFold(n_splits=CFG_Catboost.n_splits,shuffle=True, random_state=CFG_Catboost.SEED)\n",
        "  X , y   = train[features_columns] , train[CFG_Catboost.TARGET_COL]\n",
        "  return X,y,skf"
      ],
      "execution_count": null,
      "outputs": []
    },
    {
      "cell_type": "code",
      "metadata": {
        "id": "9aGOsC0ALDNG"
      },
      "source": [
        "from sklearn.model_selection import StratifiedKFold\n",
        "X,y,skf= divide_train (train)"
      ],
      "execution_count": null,
      "outputs": []
    },
    {
      "cell_type": "code",
      "metadata": {
        "id": "-dr9GpntoF3n"
      },
      "source": [
        "!pip install catboost==0.22 --quiet\n"
      ],
      "execution_count": null,
      "outputs": []
    },
    {
      "cell_type": "code",
      "metadata": {
        "id": "J1a2R2a7LEQY"
      },
      "source": [
        "from catboost import CatBoostClassifier , Pool\n",
        "def StratifiedKFold_Train(X,y):\n",
        "  estimators = []  \n",
        "  for fold_, (trn_idx, val_idx) in enumerate(skf.split(X,y)):\n",
        "      print(50*'-')\n",
        "      print('Fold:',fold_+1)\n",
        "      X_train, y_train = X.iloc[trn_idx,:], y[trn_idx] \n",
        "      X_test, y_test = X.iloc[val_idx,:], y[val_idx] \n",
        "        \n",
        "      estimator = CatBoostClassifier(**CFG_Catboost.catboost_params)\n",
        "      estimator.fit(Pool(X_train,y_train,cat_features = CFG_Catboost.categ_features),\n",
        "                    eval_set = Pool(X_test,y_test,cat_features = CFG_Catboost.categ_features),\n",
        "                    early_stopping_rounds=100)\n",
        "      estimators.append(estimator)\n",
        "      print(50*'-')\n",
        "      print()\n",
        "  return estimators\n"
      ],
      "execution_count": null,
      "outputs": []
    },
    {
      "cell_type": "code",
      "metadata": {
        "colab": {
          "base_uri": "https://localhost:8080/"
        },
        "id": "HxJ6poQvnW92",
        "outputId": "3704e9f9-e72b-46ab-b1b4-0f9a16d595ed"
      },
      "source": [
        "estimators = StratifiedKFold_Train(X,y)"
      ],
      "execution_count": null,
      "outputs": [
        {
          "output_type": "stream",
          "text": [
            "--------------------------------------------------\n",
            "Fold: 1\n",
            "0:\tlearn: 0.5949074\ttest: 0.5444444\tbest: 0.5444444 (0)\ttotal: 6.47ms\tremaining: 1m 4s\n",
            "100:\tlearn: 0.7541667\ttest: 0.6537037\tbest: 0.6629630 (86)\ttotal: 551ms\tremaining: 54s\n",
            "200:\tlearn: 0.7824074\ttest: 0.6703704\tbest: 0.6740741 (198)\ttotal: 1.15s\tremaining: 56.1s\n",
            "300:\tlearn: 0.7990741\ttest: 0.6870370\tbest: 0.6888889 (262)\ttotal: 1.73s\tremaining: 55.8s\n",
            "400:\tlearn: 0.8087963\ttest: 0.6851852\tbest: 0.6925926 (367)\ttotal: 2.3s\tremaining: 55.1s\n",
            "Stopped by overfitting detector  (100 iterations wait)\n",
            "\n",
            "bestTest = 0.6925925926\n",
            "bestIteration = 367\n",
            "\n",
            "Shrink model to first 368 iterations.\n",
            "--------------------------------------------------\n",
            "\n",
            "--------------------------------------------------\n",
            "Fold: 2\n",
            "0:\tlearn: 0.6134259\ttest: 0.6203704\tbest: 0.6203704 (0)\ttotal: 6.1ms\tremaining: 1m\n",
            "100:\tlearn: 0.7666667\ttest: 0.7166667\tbest: 0.7222222 (75)\ttotal: 564ms\tremaining: 55.3s\n",
            "200:\tlearn: 0.7861111\ttest: 0.7296296\tbest: 0.7370370 (178)\ttotal: 1.13s\tremaining: 55s\n",
            "300:\tlearn: 0.8050926\ttest: 0.7314815\tbest: 0.7444444 (243)\ttotal: 1.72s\tremaining: 55.3s\n",
            "Stopped by overfitting detector  (100 iterations wait)\n",
            "\n",
            "bestTest = 0.7444444444\n",
            "bestIteration = 243\n",
            "\n",
            "Shrink model to first 244 iterations.\n",
            "--------------------------------------------------\n",
            "\n",
            "--------------------------------------------------\n",
            "Fold: 3\n",
            "0:\tlearn: 0.6074074\ttest: 0.5870370\tbest: 0.5870370 (0)\ttotal: 6.65ms\tremaining: 1m 6s\n",
            "100:\tlearn: 0.7560185\ttest: 0.7055556\tbest: 0.7092593 (97)\ttotal: 555ms\tremaining: 54.4s\n",
            "200:\tlearn: 0.7814815\ttest: 0.7129630\tbest: 0.7259259 (174)\ttotal: 1.09s\tremaining: 53.2s\n",
            "Stopped by overfitting detector  (100 iterations wait)\n",
            "\n",
            "bestTest = 0.7259259259\n",
            "bestIteration = 174\n",
            "\n",
            "Shrink model to first 175 iterations.\n",
            "--------------------------------------------------\n",
            "\n",
            "--------------------------------------------------\n",
            "Fold: 4\n",
            "0:\tlearn: 0.6120370\ttest: 0.6129630\tbest: 0.6129630 (0)\ttotal: 6.08ms\tremaining: 1m\n",
            "100:\tlearn: 0.7527778\ttest: 0.6759259\tbest: 0.6777778 (89)\ttotal: 539ms\tremaining: 52.8s\n",
            "200:\tlearn: 0.7731481\ttest: 0.6851852\tbest: 0.6851852 (151)\ttotal: 1.09s\tremaining: 53s\n",
            "300:\tlearn: 0.7912037\ttest: 0.6925926\tbest: 0.6962963 (281)\ttotal: 1.64s\tremaining: 53s\n",
            "Stopped by overfitting detector  (100 iterations wait)\n",
            "\n",
            "bestTest = 0.6962962963\n",
            "bestIteration = 281\n",
            "\n",
            "Shrink model to first 282 iterations.\n",
            "--------------------------------------------------\n",
            "\n",
            "--------------------------------------------------\n",
            "Fold: 5\n",
            "0:\tlearn: 0.6134259\ttest: 0.6037037\tbest: 0.6037037 (0)\ttotal: 6.17ms\tremaining: 1m 1s\n",
            "100:\tlearn: 0.7625000\ttest: 0.7148148\tbest: 0.7166667 (95)\ttotal: 560ms\tremaining: 54.9s\n",
            "200:\tlearn: 0.7759259\ttest: 0.7074074\tbest: 0.7203704 (107)\ttotal: 1.11s\tremaining: 54.3s\n",
            "Stopped by overfitting detector  (100 iterations wait)\n",
            "\n",
            "bestTest = 0.7203703704\n",
            "bestIteration = 107\n",
            "\n",
            "Shrink model to first 108 iterations.\n",
            "--------------------------------------------------\n",
            "\n"
          ],
          "name": "stdout"
        }
      ]
    },
    {
      "cell_type": "code",
      "metadata": {
        "id": "_2aCdLvjnAs4"
      },
      "source": [
        "def predict (estimators):\n",
        "  cat_preds = []\n",
        "  for estimator in estimators : \n",
        "    y_pred_test = estimator.predict(test[features_columns])\n",
        "    cat_preds.append(y_pred_test)\n",
        "  catboost_preds = np.mean(cat_preds,axis=0)\n",
        "  return catboost_preds\n"
      ],
      "execution_count": null,
      "outputs": []
    },
    {
      "cell_type": "code",
      "metadata": {
        "id": "H1fU7HuSnz9B"
      },
      "source": [
        "import numpy as np\n",
        "catboost_preds = predict (estimators)\n"
      ],
      "execution_count": null,
      "outputs": []
    },
    {
      "cell_type": "code",
      "metadata": {
        "id": "JNNVj9ZJoeaL"
      },
      "source": [
        "import catboost\n",
        "for idx, estimator in enumerate(estimators) :\n",
        "  estimator.save_model( 'catboost{}'.format(idx + 1))"
      ],
      "execution_count": null,
      "outputs": []
    },
    {
      "cell_type": "code",
      "metadata": {
        "colab": {
          "base_uri": "https://localhost:8080/"
        },
        "id": "N9OGDnQ6LNpj",
        "outputId": "b572d0bf-522d-476f-de94-33734d8479b5"
      },
      "source": [
        "from sklearn.metrics import accuracy_score\n",
        "accuracy_score(catboost_preds.astype('int64'),test.winner)"
      ],
      "execution_count": null,
      "outputs": [
        {
          "output_type": "execute_result",
          "data": {
            "text/plain": [
              "0.7229508196721312"
            ]
          },
          "metadata": {
            "tags": []
          },
          "execution_count": 50
        }
      ]
    },
    {
      "cell_type": "code",
      "metadata": {
        "id": "VIBGI8RwLd2M",
        "colab": {
          "base_uri": "https://localhost:8080/"
        },
        "outputId": "33db063a-c5aa-4b85-f56e-aefd75dc7c25"
      },
      "source": [
        "X.columns"
      ],
      "execution_count": null,
      "outputs": [
        {
          "output_type": "execute_result",
          "data": {
            "text/plain": [
              "Index(['tourney_name', 'surface', 'tourney_date', 'match_num', 'best_of',\n",
              "       'round', 'Match', 'Player_Side1', 'Player_Side2', 'PS1_age',\n",
              "       'PS1_country', 'PS1_hand', 'PS1_height', 'PS1_points', 'PS1_rank',\n",
              "       'PS2_age', 'PS2_country', 'PS2_hand', 'PS2_height', 'PS2_points',\n",
              "       'PS2_rank'],\n",
              "      dtype='object')"
            ]
          },
          "metadata": {
            "tags": []
          },
          "execution_count": 51
        }
      ]
    },
    {
      "cell_type": "code",
      "metadata": {
        "colab": {
          "base_uri": "https://localhost:8080/"
        },
        "id": "2TpjA8KOWpC0",
        "outputId": "bf7c158f-263e-48c3-bc33-8a7b39e35e41"
      },
      "source": [
        "X.info()"
      ],
      "execution_count": null,
      "outputs": [
        {
          "output_type": "stream",
          "text": [
            "<class 'pandas.core.frame.DataFrame'>\n",
            "RangeIndex: 2700 entries, 0 to 2699\n",
            "Data columns (total 21 columns):\n",
            " #   Column        Non-Null Count  Dtype  \n",
            "---  ------        --------------  -----  \n",
            " 0   tourney_name  2700 non-null   object \n",
            " 1   surface       2700 non-null   object \n",
            " 2   tourney_date  2700 non-null   int64  \n",
            " 3   match_num     2700 non-null   int64  \n",
            " 4   best_of       2700 non-null   int64  \n",
            " 5   round         2700 non-null   object \n",
            " 6   Match         2700 non-null   object \n",
            " 7   Player_Side1  2700 non-null   object \n",
            " 8   Player_Side2  2700 non-null   object \n",
            " 9   PS1_age       2700 non-null   float64\n",
            " 10  PS1_country   2700 non-null   object \n",
            " 11  PS1_hand      2700 non-null   object \n",
            " 12  PS1_height    2700 non-null   float64\n",
            " 13  PS1_points    2700 non-null   float64\n",
            " 14  PS1_rank      2700 non-null   float64\n",
            " 15  PS2_age       2700 non-null   float64\n",
            " 16  PS2_country   2700 non-null   object \n",
            " 17  PS2_hand      2700 non-null   object \n",
            " 18  PS2_height    2700 non-null   float64\n",
            " 19  PS2_points    2700 non-null   float64\n",
            " 20  PS2_rank      2700 non-null   float64\n",
            "dtypes: float64(8), int64(3), object(10)\n",
            "memory usage: 443.1+ KB\n"
          ],
          "name": "stdout"
        }
      ]
    },
    {
      "cell_type": "code",
      "metadata": {
        "colab": {
          "base_uri": "https://localhost:8080/",
          "height": 182
        },
        "id": "IVEHif81XjGd",
        "outputId": "b624a883-2971-4090-d0e2-11042b087769"
      },
      "source": [
        "X.head(1)"
      ],
      "execution_count": null,
      "outputs": [
        {
          "output_type": "execute_result",
          "data": {
            "text/html": [
              "<div>\n",
              "<style scoped>\n",
              "    .dataframe tbody tr th:only-of-type {\n",
              "        vertical-align: middle;\n",
              "    }\n",
              "\n",
              "    .dataframe tbody tr th {\n",
              "        vertical-align: top;\n",
              "    }\n",
              "\n",
              "    .dataframe thead th {\n",
              "        text-align: right;\n",
              "    }\n",
              "</style>\n",
              "<table border=\"1\" class=\"dataframe\">\n",
              "  <thead>\n",
              "    <tr style=\"text-align: right;\">\n",
              "      <th></th>\n",
              "      <th>tourney_name</th>\n",
              "      <th>surface</th>\n",
              "      <th>tourney_date</th>\n",
              "      <th>match_num</th>\n",
              "      <th>best_of</th>\n",
              "      <th>round</th>\n",
              "      <th>Match</th>\n",
              "      <th>Player_Side1</th>\n",
              "      <th>Player_Side2</th>\n",
              "      <th>PS1_age</th>\n",
              "      <th>PS1_country</th>\n",
              "      <th>PS1_hand</th>\n",
              "      <th>PS1_height</th>\n",
              "      <th>PS1_points</th>\n",
              "      <th>PS1_rank</th>\n",
              "      <th>PS2_age</th>\n",
              "      <th>PS2_country</th>\n",
              "      <th>PS2_hand</th>\n",
              "      <th>PS2_height</th>\n",
              "      <th>PS2_points</th>\n",
              "      <th>PS2_rank</th>\n",
              "    </tr>\n",
              "  </thead>\n",
              "  <tbody>\n",
              "    <tr>\n",
              "      <th>0</th>\n",
              "      <td>Us Open</td>\n",
              "      <td>Hard</td>\n",
              "      <td>20200831</td>\n",
              "      <td>218</td>\n",
              "      <td>5</td>\n",
              "      <td>R16</td>\n",
              "      <td>Alex De Minaur vs Vasek Pospisil</td>\n",
              "      <td>Alex De Minaur</td>\n",
              "      <td>Vasek Pospisil</td>\n",
              "      <td>20.884326</td>\n",
              "      <td>AUS</td>\n",
              "      <td>R</td>\n",
              "      <td>183.0</td>\n",
              "      <td>1775.0</td>\n",
              "      <td>18.0</td>\n",
              "      <td>29.557837</td>\n",
              "      <td>CAN</td>\n",
              "      <td>R</td>\n",
              "      <td>193.0</td>\n",
              "      <td>360.0</td>\n",
              "      <td>146.0</td>\n",
              "    </tr>\n",
              "  </tbody>\n",
              "</table>\n",
              "</div>"
            ],
            "text/plain": [
              "  tourney_name surface  tourney_date  ...  PS2_height  PS2_points PS2_rank\n",
              "0      Us Open    Hard      20200831  ...       193.0       360.0    146.0\n",
              "\n",
              "[1 rows x 21 columns]"
            ]
          },
          "metadata": {
            "tags": []
          },
          "execution_count": 53
        }
      ]
    },
    {
      "cell_type": "code",
      "metadata": {
        "id": "7JMgcbaqXyfU"
      },
      "source": [
        ""
      ],
      "execution_count": null,
      "outputs": []
    }
  ]
}