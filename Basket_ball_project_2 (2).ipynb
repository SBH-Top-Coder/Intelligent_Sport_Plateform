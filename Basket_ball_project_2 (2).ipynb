{
  "nbformat": 4,
  "nbformat_minor": 0,
  "metadata": {
    "colab": {
      "name": "Basket_ball_project_2.ipynb",
      "provenance": [],
      "collapsed_sections": []
    },
    "kernelspec": {
      "display_name": "Python 3",
      "name": "python3"
    },
    "language_info": {
      "name": "python"
    }
  },
  "cells": [
    {
      "cell_type": "markdown",
      "metadata": {
        "id": "h7ooyFrIKpnn"
      },
      "source": [
        "0. Mounting"
      ]
    },
    {
      "cell_type": "code",
      "metadata": {
        "colab": {
          "base_uri": "https://localhost:8080/"
        },
        "id": "codULKgYJLwN",
        "outputId": "389d1c66-3fc0-405c-ee24-6bf4ebe13ede"
      },
      "source": [
        "from google.colab import drive\n",
        "drive.mount('/content/gdrive')"
      ],
      "execution_count": null,
      "outputs": [
        {
          "output_type": "stream",
          "text": [
            "Mounted at /content/gdrive\n"
          ],
          "name": "stdout"
        }
      ]
    },
    {
      "cell_type": "markdown",
      "metadata": {
        "id": "r22WAxklKmpn"
      },
      "source": [
        "1. Importations"
      ]
    },
    {
      "cell_type": "code",
      "metadata": {
        "id": "uRjRLF67KeNg"
      },
      "source": [
        "import warnings\n",
        "warnings.filterwarnings(\"ignore\")"
      ],
      "execution_count": null,
      "outputs": []
    },
    {
      "cell_type": "markdown",
      "metadata": {
        "id": "cwCBET1oKuaw"
      },
      "source": [
        "2. Utils "
      ]
    },
    {
      "cell_type": "code",
      "metadata": {
        "id": "KciLq0BWKwiS"
      },
      "source": [
        "def load (path) : \n",
        "  df = pd.read_csv(path)\n",
        "  return df "
      ],
      "execution_count": null,
      "outputs": []
    },
    {
      "cell_type": "code",
      "metadata": {
        "id": "ZPL1Wd-IMasc"
      },
      "source": [
        "def non_numerical_features (df_games) : \n",
        "  numerical = df_games.dtypes[df_games.dtypes != \"object\"].index\n",
        "  non_num = []\n",
        "  for x in  list(df_games.columns) : \n",
        "      if x not in numerical : \n",
        "          non_num.append(x)\n",
        "  return non_num"
      ],
      "execution_count": null,
      "outputs": []
    },
    {
      "cell_type": "markdown",
      "metadata": {
        "id": "zk1bRAxtK5TG"
      },
      "source": [
        "3.Loading Data"
      ]
    },
    {
      "cell_type": "code",
      "metadata": {
        "id": "LugBpe7ZJzLQ"
      },
      "source": [
        "import pandas as pd\n",
        "df_games = load ('/content/gdrive/MyDrive/Kaggle/basket_ball.csv')"
      ],
      "execution_count": null,
      "outputs": []
    },
    {
      "cell_type": "code",
      "metadata": {
        "id": "15dlWxkr2uDh"
      },
      "source": [
        "useful_features = ['WL_HOME','TEAM_ABBREVIATION_HOME','SERIES_LEADER',\n",
        "'TEAM_NAME_HOME','HISTORICAL_STATUS',\n",
        "'GAME_DATE',\n",
        "'MATCHUP_HOME',\n",
        "'TEAM_ABBREVIATION_AWAY',\n",
        "'TEAM_NAME_AWAY',\n",
        "'GAME_DATE_EST',\n",
        "'GAME_STATUS_TEXT',\n",
        "'SEASON',\n",
        "'TEAM_CITY_AWAY',\n",
        "'TEAM_CITY_HOME',\n",
        "'ATTENDANCE',\n",
        "'TEAM_CITY_NAME_HOME',\n",
        "'TEAM_CITY_NAME_AWAY',\n",
        "'TEAM_NICKNAME_AWAY',\n",
        "'TEAM_NICKNAME_HOME',\n",
        "'LAST_GAME_HOME_TEAM_POINTS',\n",
        "'LAST_GAME_HOME_TEAM_CITY',\n",
        "'LAST_GAME_HOME_TEAM_NAME',\t\n",
        "'LAST_GAME_HOME_TEAM_ABBREVIATION',\n",
        "'LAST_GAME_VISITOR_TEAM_CITY',\n",
        "'LAST_GAME_VISITOR_TEAM_CITY1',\n",
        "'LAST_GAME_VISITOR_TEAM_POINTS']"
      ],
      "execution_count": null,
      "outputs": []
    },
    {
      "cell_type": "markdown",
      "metadata": {
        "id": "l9mPDzF35KbW"
      },
      "source": [
        "Tajzir Data"
      ]
    },
    {
      "cell_type": "code",
      "metadata": {
        "id": "fqH46jKW5Mjl"
      },
      "source": [
        "df_games = df_games[df_games.SEASON >= 2009]\n",
        "df_games = df_games[useful_features]"
      ],
      "execution_count": null,
      "outputs": []
    },
    {
      "cell_type": "code",
      "metadata": {
        "id": "rmEawWK-2I3Q"
      },
      "source": [
        "df_games = df_games.dropna(how='any')"
      ],
      "execution_count": null,
      "outputs": []
    },
    {
      "cell_type": "markdown",
      "metadata": {
        "id": "kfnOBGK_LQT6"
      },
      "source": [
        "5. Nans "
      ]
    },
    {
      "cell_type": "code",
      "metadata": {
        "id": "SS6OaHu7JzRh"
      },
      "source": [
        "import matplotlib.pyplot as plt\n",
        "import seaborn as sns\n",
        "def missing_values(df): \n",
        "  total = df.isnull().sum().sort_values(ascending=False)\n",
        "  percent = (df.isnull().sum()/df.isnull().count()).sort_values(ascending=False)\n",
        "  missing_data = pd.concat([total, percent], axis=1, keys=['Total', 'Percent'])\n",
        "  f, ax = plt.subplots(figsize=(15, 6))\n",
        "  plt.xticks(rotation='90')\n",
        "  sns.barplot(x=missing_data.index, y=missing_data['Percent'])\n",
        "  plt.xlabel('Features', fontsize=15)\n",
        "  plt.ylabel('Percent of Missing Values', fontsize=15)\n",
        "  plt.title('Percentage of Missing Data by Feature', fontsize=15)\n",
        "  # missing_data.head()\n",
        "  return (missing_data)"
      ],
      "execution_count": null,
      "outputs": []
    },
    {
      "cell_type": "code",
      "metadata": {
        "colab": {
          "base_uri": "https://localhost:8080/",
          "height": 607
        },
        "id": "_MZPYkbpJzX_",
        "outputId": "97109420-9ffb-4760-edc6-7ae1c01d4340"
      },
      "source": [
        "missing_data = missing_values(df_games)"
      ],
      "execution_count": null,
      "outputs": [
        {
          "output_type": "display_data",
          "data": {
            "image/png": "[encoded data removed]",
            "text/plain": [
              "<Figure size 1080x432 with 1 Axes>"
            ]
          },
          "metadata": {
            "tags": [],
            "needs_background": "light"
          }
        }
      ]
    },
    {
      "cell_type": "markdown",
      "metadata": {
        "id": "Jkwmp2UdLqhw"
      },
      "source": [
        "6. Converting "
      ]
    },
    {
      "cell_type": "code",
      "metadata": {
        "id": "-tteva9YLnCg"
      },
      "source": [
        "def convert_home(x):\n",
        "  if x == \"L\": return 0\n",
        "  else : return 2"
      ],
      "execution_count": null,
      "outputs": []
    },
    {
      "cell_type": "code",
      "metadata": {
        "id": "b6mqzV8ELn2j"
      },
      "source": [
        "df_games['WL_HOME'] = df_games['WL_HOME'].apply(convert_home)"
      ],
      "execution_count": null,
      "outputs": []
    },
    {
      "cell_type": "code",
      "metadata": {
        "colab": {
          "base_uri": "https://localhost:8080/"
        },
        "id": "mczCBwrx2mDI",
        "outputId": "418214e6-476e-4c88-c510-972ef23357db"
      },
      "source": [
        "df_games.shape"
      ],
      "execution_count": null,
      "outputs": [
        {
          "output_type": "execute_result",
          "data": {
            "text/plain": [
              "(13464, 26)"
            ]
          },
          "metadata": {
            "tags": []
          },
          "execution_count": 14
        }
      ]
    },
    {
      "cell_type": "markdown",
      "metadata": {
        "id": "kWzsLfLvMK6F"
      },
      "source": [
        "7. Splitting "
      ]
    },
    {
      "cell_type": "code",
      "metadata": {
        "id": "KkckDCJ8L7mN"
      },
      "source": [
        "def splitting_data (df_games):\n",
        "  df_games = df_games.sample(frac=1).reset_index(drop=True)\n",
        "  train,test = df_games[:12000] , df_games[12000:]\n",
        "  return train,test"
      ],
      "execution_count": null,
      "outputs": []
    },
    {
      "cell_type": "code",
      "metadata": {
        "id": "EgA3nQo1MN1H"
      },
      "source": [
        "train,test = splitting_data (df_games)"
      ],
      "execution_count": null,
      "outputs": []
    },
    {
      "cell_type": "markdown",
      "metadata": {
        "id": "9jh6MGVxMs9q"
      },
      "source": [
        "Modeling"
      ]
    },
    {
      "cell_type": "code",
      "metadata": {
        "id": "1BeffO78MUMv"
      },
      "source": [
        "non_num = non_numerical_features (df_games)"
      ],
      "execution_count": null,
      "outputs": []
    },
    {
      "cell_type": "code",
      "metadata": {
        "id": "u2ZCQC4BMuYH"
      },
      "source": [
        "class CFG_Catboost :\n",
        "  SEED = 42\n",
        "  n_splits = 5\n",
        "  catboost_params = {'learning_rate':0.05,'iterations':10000,'eval_metric':'AUC',\n",
        "                      'use_best_model' :True,'verbose':100,'random_seed': 0,}\n",
        "  remove_features = ['WL_HOME']\n",
        "  categ_features = non_num\n",
        "  TARGET_COL = 'WL_HOME'"
      ],
      "execution_count": null,
      "outputs": []
    },
    {
      "cell_type": "code",
      "metadata": {
        "id": "91Bw5Ei2Mv91"
      },
      "source": [
        "def features_utils (train):\n",
        "  features_columns = [col for col in train.columns if col not in CFG_Catboost.remove_features]\n",
        "  return features_columns"
      ],
      "execution_count": null,
      "outputs": []
    },
    {
      "cell_type": "code",
      "metadata": {
        "id": "m55kdsnYMx8e"
      },
      "source": [
        "features_columns = features_utils (train)"
      ],
      "execution_count": null,
      "outputs": []
    },
    {
      "cell_type": "code",
      "metadata": {
        "id": "NRl3M4ISMzHW"
      },
      "source": [
        "def divide_train (train):\n",
        "  skf = StratifiedKFold(n_splits=CFG_Catboost.n_splits,shuffle=True, random_state=CFG_Catboost.SEED)\n",
        "  X , y   = train[features_columns] , train[CFG_Catboost.TARGET_COL]\n",
        "  return X,y,skf"
      ],
      "execution_count": null,
      "outputs": []
    },
    {
      "cell_type": "code",
      "metadata": {
        "id": "Ag9L8MA7M1Bs"
      },
      "source": [
        "from sklearn.model_selection import StratifiedKFold\n",
        "X,y,skf= divide_train (train)"
      ],
      "execution_count": null,
      "outputs": []
    },
    {
      "cell_type": "code",
      "metadata": {
        "id": "hCDsCbxEM2ei"
      },
      "source": [
        "def StratifiedKFold_Train(X,y):\n",
        "  # oof_cat = np.zeros((train.shape[0],))\n",
        "  test['target'] = 0\n",
        "  cat_preds= []\n",
        "  for fold_, (trn_idx, val_idx) in enumerate(skf.split(X,y)):\n",
        "      print(50*'-')\n",
        "      print('Fold:',fold_+1)\n",
        "      X_train, y_train = X.iloc[trn_idx,:], y[trn_idx] \n",
        "      X_test, y_test = X.iloc[val_idx,:], y[val_idx] \n",
        "        \n",
        "      estimator = CatBoostClassifier(**CFG_Catboost.catboost_params)\n",
        "      estimator.fit(Pool(X_train,y_train,cat_features = CFG_Catboost.categ_features),\n",
        "                    eval_set = Pool(X_test,y_test,cat_features = CFG_Catboost.categ_features),\n",
        "                    early_stopping_rounds=200)\n",
        "      \n",
        "      # y_pred_val = estimator.predict(X_test)\n",
        "      # oof_cat[val_idx] = y_pred_val\n",
        "      y_pred_test = estimator.predict(test[features_columns])\n",
        "      cat_preds.append(y_pred_test)\n",
        "      print(50*'-')\n",
        "      print()\n",
        "  catboost_preds = np.mean(cat_preds,axis=0)\n",
        "  return catboost_preds\n"
      ],
      "execution_count": null,
      "outputs": []
    },
    {
      "cell_type": "code",
      "metadata": {
        "colab": {
          "base_uri": "https://localhost:8080/"
        },
        "id": "jGBw3oHqM5gs",
        "outputId": "56af0891-44e8-49a0-e4a0-a5fcaf7f1f4a"
      },
      "source": [
        "!pip install catboost==0.22 --quiet\n"
      ],
      "execution_count": null,
      "outputs": [
        {
          "output_type": "stream",
          "text": [
            "\u001b[K     |████████████████████████████████| 64.4 MB 9.1 kB/s \n",
            "\u001b[?25h"
          ],
          "name": "stdout"
        }
      ]
    },
    {
      "cell_type": "code",
      "metadata": {
        "colab": {
          "base_uri": "https://localhost:8080/"
        },
        "id": "R00TQrG-M8Au",
        "outputId": "4dc07b4b-b93a-41e8-90ee-e1f3abf2af21"
      },
      "source": [
        "from catboost import CatBoostClassifier ,Pool\n",
        "import numpy as np\n",
        "catboost_preds = StratifiedKFold_Train(X,y)"
      ],
      "execution_count": null,
      "outputs": [
        {
          "output_type": "stream",
          "text": [
            "--------------------------------------------------\n",
            "Fold: 1\n",
            "0:\ttest: 0.8501905\tbest: 0.8501905 (0)\ttotal: 110ms\tremaining: 18m 18s\n",
            "100:\ttest: 0.8785714\tbest: 0.8787026 (98)\ttotal: 5.56s\tremaining: 9m 5s\n",
            "200:\ttest: 0.8811032\tbest: 0.8811032 (200)\ttotal: 10.8s\tremaining: 8m 46s\n",
            "300:\ttest: 0.8816571\tbest: 0.8817080 (222)\ttotal: 16.3s\tremaining: 8m 46s\n",
            "400:\ttest: 0.8815503\tbest: 0.8818047 (390)\ttotal: 21.9s\tremaining: 8m 45s\n",
            "500:\ttest: 0.8808531\tbest: 0.8818047 (390)\ttotal: 27.6s\tremaining: 8m 42s\n",
            "Stopped by overfitting detector  (200 iterations wait)\n",
            "\n",
            "bestTest = 0.8818047423\n",
            "bestIteration = 390\n",
            "\n",
            "Shrink model to first 391 iterations.\n",
            "--------------------------------------------------\n",
            "\n",
            "--------------------------------------------------\n",
            "Fold: 2\n",
            "0:\ttest: 0.8636877\tbest: 0.8636877 (0)\ttotal: 40.7ms\tremaining: 6m 46s\n",
            "100:\ttest: 0.8988699\tbest: 0.8988699 (100)\ttotal: 5.42s\tremaining: 8m 51s\n",
            "200:\ttest: 0.9001597\tbest: 0.9001741 (196)\ttotal: 11.1s\tremaining: 8m 59s\n",
            "300:\ttest: 0.9006384\tbest: 0.9006807 (299)\ttotal: 16.6s\tremaining: 8m 54s\n",
            "400:\ttest: 0.9011479\tbest: 0.9012525 (398)\ttotal: 22.3s\tremaining: 8m 52s\n",
            "500:\ttest: 0.9011995\tbest: 0.9013930 (425)\ttotal: 28s\tremaining: 8m 51s\n",
            "600:\ttest: 0.9011121\tbest: 0.9013930 (425)\ttotal: 33.8s\tremaining: 8m 48s\n",
            "Stopped by overfitting detector  (200 iterations wait)\n",
            "\n",
            "bestTest = 0.9013929984\n",
            "bestIteration = 425\n",
            "\n",
            "Shrink model to first 426 iterations.\n",
            "--------------------------------------------------\n",
            "\n",
            "--------------------------------------------------\n",
            "Fold: 3\n",
            "0:\ttest: 0.8402973\tbest: 0.8402973 (0)\ttotal: 40.9ms\tremaining: 6m 48s\n",
            "100:\ttest: 0.8835866\tbest: 0.8837026 (91)\ttotal: 5.34s\tremaining: 8m 43s\n",
            "200:\ttest: 0.8841994\tbest: 0.8842374 (190)\ttotal: 10.7s\tremaining: 8m 41s\n",
            "300:\ttest: 0.8852676\tbest: 0.8853442 (296)\ttotal: 16.3s\tremaining: 8m 46s\n",
            "400:\ttest: 0.8848578\tbest: 0.8854001 (313)\ttotal: 22s\tremaining: 8m 47s\n",
            "500:\ttest: 0.8841873\tbest: 0.8854001 (313)\ttotal: 27.7s\tremaining: 8m 45s\n",
            "Stopped by overfitting detector  (200 iterations wait)\n",
            "\n",
            "bestTest = 0.8854001003\n",
            "bestIteration = 313\n",
            "\n",
            "Shrink model to first 314 iterations.\n",
            "--------------------------------------------------\n",
            "\n",
            "--------------------------------------------------\n",
            "Fold: 4\n",
            "0:\ttest: 0.8494634\tbest: 0.8494634 (0)\ttotal: 53.5ms\tremaining: 8m 54s\n",
            "100:\ttest: 0.8810954\tbest: 0.8812164 (83)\ttotal: 5.41s\tremaining: 8m 50s\n",
            "200:\ttest: 0.8816699\tbest: 0.8819923 (175)\ttotal: 11s\tremaining: 8m 54s\n",
            "300:\ttest: 0.8815682\tbest: 0.8821979 (213)\ttotal: 16.7s\tremaining: 8m 58s\n",
            "400:\ttest: 0.8815574\tbest: 0.8821979 (213)\ttotal: 22.4s\tremaining: 8m 55s\n",
            "Stopped by overfitting detector  (200 iterations wait)\n",
            "\n",
            "bestTest = 0.8821978652\n",
            "bestIteration = 213\n",
            "\n",
            "Shrink model to first 214 iterations.\n",
            "--------------------------------------------------\n",
            "\n",
            "--------------------------------------------------\n",
            "Fold: 5\n",
            "0:\ttest: 0.8503897\tbest: 0.8503897 (0)\ttotal: 60.4ms\tremaining: 10m 3s\n",
            "100:\ttest: 0.8847940\tbest: 0.8848385 (99)\ttotal: 5.46s\tremaining: 8m 55s\n",
            "200:\ttest: 0.8854825\tbest: 0.8854968 (196)\ttotal: 11s\tremaining: 8m 56s\n",
            "300:\ttest: 0.8864231\tbest: 0.8864231 (300)\ttotal: 16.7s\tremaining: 8m 56s\n",
            "400:\ttest: 0.8869812\tbest: 0.8870478 (395)\ttotal: 22.3s\tremaining: 8m 53s\n",
            "500:\ttest: 0.8871724\tbest: 0.8873487 (483)\ttotal: 28s\tremaining: 8m 50s\n",
            "600:\ttest: 0.8874167\tbest: 0.8875349 (581)\ttotal: 33.8s\tremaining: 8m 47s\n",
            "700:\ttest: 0.8865578\tbest: 0.8875349 (581)\ttotal: 39.5s\tremaining: 8m 44s\n",
            "Stopped by overfitting detector  (200 iterations wait)\n",
            "\n",
            "bestTest = 0.8875349237\n",
            "bestIteration = 581\n",
            "\n",
            "Shrink model to first 582 iterations.\n",
            "--------------------------------------------------\n",
            "\n"
          ],
          "name": "stdout"
        }
      ]
    },
    {
      "cell_type": "code",
      "metadata": {
        "id": "AEte9qgLM-EB",
        "colab": {
          "base_uri": "https://localhost:8080/"
        },
        "outputId": "53015a4d-818c-4e81-fd78-a04dc0955da2"
      },
      "source": [
        "from sklearn.metrics import accuracy_score\n",
        "accuracy_score(np.asarray(catboost_preds).astype('int32'),test['WL_HOME'])\n"
      ],
      "execution_count": null,
      "outputs": [
        {
          "output_type": "execute_result",
          "data": {
            "text/plain": [
              "0.8046448087431693"
            ]
          },
          "metadata": {
            "tags": []
          },
          "execution_count": 26
        }
      ]
    },
    {
      "cell_type": "code",
      "metadata": {
        "id": "rTpNaZFp9pl4"
      },
      "source": [
        ""
      ],
      "execution_count": null,
      "outputs": []
    }
  ]
}