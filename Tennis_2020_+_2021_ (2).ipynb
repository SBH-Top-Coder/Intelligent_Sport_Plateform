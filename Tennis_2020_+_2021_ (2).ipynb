{
  "nbformat": 4,
  "nbformat_minor": 0,
  "metadata": {
    "colab": {
      "name": "Tennis 2020 + 2021 .ipynb",
      "provenance": [],
      "collapsed_sections": []
    },
    "kernelspec": {
      "name": "python3",
      "display_name": "Python 3"
    },
    "language_info": {
      "name": "python"
    }
  },
  "cells": [
    {
      "cell_type": "code",
      "metadata": {
        "id": "CQCfMO3kIhSS",
        "colab": {
          "base_uri": "https://localhost:8080/"
        },
        "outputId": "06e89b46-e96c-4849-b9c4-7c73e71caab0"
      },
      "source": [
        "from google.colab import drive\n",
        "drive.mount('/content/drive')"
      ],
      "execution_count": null,
      "outputs": [
        {
          "output_type": "stream",
          "text": [
            "Mounted at /content/drive\n"
          ],
          "name": "stdout"
        }
      ]
    },
    {
      "cell_type": "markdown",
      "metadata": {
        "id": "2A_ZEZKMVS0l"
      },
      "source": [
        "Utils "
      ]
    },
    {
      "cell_type": "code",
      "metadata": {
        "id": "TB6JFWSJIplG"
      },
      "source": [
        "import pandas as pd\n",
        "def load (path):  \n",
        "  df = pd.read_csv(path)    \n",
        "  return df "
      ],
      "execution_count": null,
      "outputs": []
    },
    {
      "cell_type": "code",
      "metadata": {
        "id": "njCb70ecyjO_"
      },
      "source": [
        "def features_type (df) : \n",
        "  numerical = df.dtypes[df.dtypes != \"object\"].index\n",
        "  non_num = []\n",
        "  for x in  list(df.columns) : \n",
        "      if x not in numerical : \n",
        "          non_num.append(x)\n",
        "  return numerical , non_num"
      ],
      "execution_count": null,
      "outputs": []
    },
    {
      "cell_type": "markdown",
      "metadata": {
        "id": "O6eoO5dJcgNF"
      },
      "source": [
        "Process"
      ]
    },
    {
      "cell_type": "code",
      "metadata": {
        "id": "wj6zqycjchbc"
      },
      "source": [
        "import random\n",
        "def match_players (df) : \n",
        "  Matches = []\n",
        "  Player_side1 = []\n",
        "  Player_side2 = []\n",
        "  for idx , row in df.iterrows() : \n",
        "    if random.uniform(0, 1) <= 0.5 : \n",
        "      Matches.append(row['winner_name'] + ' vs ' + row['loser_name'] ) \n",
        "      Player_side1.append(row['winner_name'])\n",
        "      Player_side2.append(row['loser_name'])\n",
        "    else : \n",
        "      Matches.append(row['loser_name'] + ' vs ' + row['winner_name'] ) \n",
        "      Player_side1.append(row['loser_name'])\n",
        "      Player_side2.append(row['winner_name'])\n",
        "  return Matches, Player_side1 , Player_side2"
      ],
      "execution_count": null,
      "outputs": []
    },
    {
      "cell_type": "code",
      "metadata": {
        "id": "pvlbveeCclgH"
      },
      "source": [
        "def information_extractor (df) : \n",
        "  informations = []\n",
        "  for idx , row in df.iterrows() : \n",
        "    d = {} \n",
        "    d['player_name'] = row['winner_name']\n",
        "    d['hand'] = row['winner_hand'] \n",
        "    d['height'] = row['winner_ht']\n",
        "    d['country'] = row['winner_ioc']\n",
        "    d['age'] = row['winner_age']\n",
        "    d['rank'] = row['winner_rank']\n",
        "    d['points'] = row['winner_rank_points']\n",
        "    Exist = False \n",
        "    for x in informations : \n",
        "      if x['player_name'] == d['player_name'] : \n",
        "        Exist = True \n",
        "    if not Exist : \n",
        "      informations.append(d)\n",
        "    \n",
        "    d = {} \n",
        "    d['player_name'] = row['loser_name']\n",
        "    d['hand'] = row['loser_hand'] \n",
        "    d['height'] = row['loser_ht']\n",
        "    d['country'] = row['loser_ioc']\n",
        "    d['age'] = row['loser_age']\n",
        "    d['rank'] = row['loser_rank']\n",
        "    d['points'] = row['loser_rank_points']\n",
        "    Exist = False \n",
        "    for x in informations : \n",
        "      if x['player_name'] == d['player_name'] : \n",
        "        Exist = True \n",
        "    if not Exist : \n",
        "      informations.append(d)\n",
        "  return  informations"
      ],
      "execution_count": null,
      "outputs": []
    },
    {
      "cell_type": "code",
      "metadata": {
        "id": "Vlbv5Xpecli-"
      },
      "source": [
        "def information_features (df) : \n",
        "  PS1_age = []\n",
        "  PS1_country = []\n",
        "  PS1_hand = []\n",
        "  PS1_height = []\n",
        "  PS1_points = []\n",
        "  PS1_rank = []\n",
        "  PS2_age = []\n",
        "  PS2_country = []\n",
        "  PS2_hand = []\n",
        "  PS2_height = []\n",
        "  PS2_points = []\n",
        "  PS2_rank = []\n",
        "  from tqdm import tqdm\n",
        "  for idx,row in tqdm(df.iterrows()) : \n",
        "    PS1_info = False \n",
        "    i = 0 \n",
        "    while ((not PS1_info) and (i < len(informations))) : \n",
        "      if informations[i]['player_name'] == row ['Player_Side1'] : \n",
        "        PS1_info = True \n",
        "        PS1_age.append(informations[i]['age']) \n",
        "        PS1_country.append(informations[i]['country']) \n",
        "        PS1_hand.append(informations[i]['hand']) \n",
        "        PS1_height.append(informations[i]['height']) \n",
        "        PS1_points.append(informations[i]['points']) \n",
        "        PS1_rank.append(informations[i]['rank']) \n",
        "      i = i + 1 \n",
        "\n",
        "    PS2_info = False \n",
        "    i = 0 \n",
        "    while ((not PS2_info) and (i < len(informations))) : \n",
        "      if informations[i]['player_name'] == row ['Player_Side2'] : \n",
        "        PS1_info = True \n",
        "        PS2_age.append(informations[i]['age']) \n",
        "        PS2_country.append(informations[i]['country']) \n",
        "        PS2_hand.append(informations[i]['hand']) \n",
        "        PS2_height.append(informations[i]['height']) \n",
        "        PS2_points.append(informations[i]['points']) \n",
        "        PS2_rank.append(informations[i]['rank']) \n",
        "      i = i + 1 \n",
        "  return PS1_age ,PS1_country ,PS1_hand ,PS1_height ,PS1_points ,PS1_rank ,PS2_age ,PS2_country ,PS2_hand ,PS2_height ,PS2_points ,PS2_rank "
      ],
      "execution_count": null,
      "outputs": []
    },
    {
      "cell_type": "code",
      "metadata": {
        "id": "Es-lfAQiG33M"
      },
      "source": [
        "import matplotlib.pyplot as plt\n",
        "import seaborn as sns\n",
        "def missing_values(df): \n",
        "  total = df.isnull().sum().sort_values(ascending=False)\n",
        "\n",
        "\n",
        "  percent = (df.isnull().sum()/df.isnull().count()).sort_values(ascending=False)\n",
        "\n",
        "  missing_data = pd.concat([total, percent], axis=1, keys=['Total', 'Percent'])\n",
        "  f, ax = plt.subplots(figsize=(15, 6))\n",
        "  plt.xticks(rotation='90')\n",
        "  sns.barplot(x=missing_data.index, y=missing_data['Percent'])\n",
        "  plt.xlabel('Features', fontsize=15)\n",
        "  plt.ylabel('Percent of Missing Values', fontsize=15)\n",
        "  plt.title('Percentage of Missing Data by Feature', fontsize=15)\n",
        "  # missing_data.head()\n",
        "  return (missing_data)"
      ],
      "execution_count": null,
      "outputs": []
    },
    {
      "cell_type": "code",
      "metadata": {
        "id": "Kl4MmxH7GMTb"
      },
      "source": [
        "def Random_sampling(df, variable):\n",
        "    # extract the random sample to fill the na\n",
        "    random_sample = df[variable].dropna().sample(df[variable].isnull().sum(), random_state=0) \n",
        "    # pandas needs to have the same index in order to merge datasets\n",
        "    random_sample.index = df[df[variable].isnull()].index\n",
        "    df.loc[df[variable].isnull(), variable] = random_sample"
      ],
      "execution_count": null,
      "outputs": []
    },
    {
      "cell_type": "code",
      "metadata": {
        "id": "_0ZqbolldOsP"
      },
      "source": [
        "def prepare_target (df) :\n",
        "  target = [] \n",
        "  for idx , row in df.iterrows () : \n",
        "    if row['winner_name'] == row['Player_Side1']  : \n",
        "      target.append(1)\n",
        "    else : \n",
        "      target.append(2)\n",
        "  return target\n"
      ],
      "execution_count": null,
      "outputs": []
    },
    {
      "cell_type": "markdown",
      "metadata": {
        "id": "OLfSfYFDWChX"
      },
      "source": [
        "Main"
      ]
    },
    {
      "cell_type": "code",
      "metadata": {
        "id": "dp9Iq-ON57IH"
      },
      "source": [
        "Useful_columns = ['tourney_name',\n",
        " 'surface',\n",
        " 'draw_size',\n",
        " 'tourney_level',\n",
        " 'tourney_date',\n",
        " 'match_num',\n",
        " 'best_of' , 'round','Match', 'Player_Side1' , 'Player_Side2',\n",
        " 'PS1_age',\n",
        "'PS1_country',\n",
        "'PS1_hand',\n",
        "'PS1_height',\n",
        "'PS1_points',\n",
        "'PS1_rank',\n",
        "'PS2_age',\n",
        "'PS2_country',\n",
        "'PS2_hand',\n",
        "'PS2_height',\n",
        "'PS2_points',\n",
        "'PS2_rank'] "
      ],
      "execution_count": null,
      "outputs": []
    },
    {
      "cell_type": "code",
      "metadata": {
        "id": "Ew_xNa5FVb5L",
        "colab": {
          "base_uri": "https://localhost:8080/",
          "height": 996
        },
        "outputId": "e693004e-37d4-486b-bc38-138abebe338a"
      },
      "source": [
        "df1 = pd.DataFrame([], columns=Useful_columns)\n",
        "for i in range (2020,2022):\n",
        "  df = load('/content/drive/MyDrive/tennis_atp-master.zip (Unzipped Files)/tennis_atp-master/atp_matches_{}.csv'.format(i))\n",
        "  Matches, Player_side1 , Player_side2 = match_players (df)\n",
        "  df['Match'] = Matches\n",
        "  df['Player_Side1'] = Player_side1\n",
        "  df['Player_Side2'] = Player_side2\n",
        "  informations = information_extractor(df)\n",
        "  mid_columns = ['tourney_name',\n",
        " 'surface',\n",
        " 'draw_size',\n",
        " 'tourney_level',\n",
        " 'tourney_date',\n",
        " 'match_num',\n",
        " 'best_of' , 'round','Match', 'Player_Side1' , 'Player_Side2','winner_name']\n",
        "  df = df[mid_columns]\n",
        "  PS1_age ,PS1_country ,PS1_hand ,PS1_height ,PS1_points ,PS1_rank ,PS2_age ,PS2_country ,PS2_hand ,PS2_height ,PS2_points ,PS2_rank  = information_features (df) \n",
        "  df['PS1_age']  = PS1_age\n",
        "  df['PS1_country'] = PS1_country\n",
        "  df['PS1_hand'] = PS1_hand\n",
        "  df['PS1_height'] = PS1_height\n",
        "  df['PS1_points'] = PS1_points\n",
        "  df['PS1_rank'] = PS1_rank\n",
        "  df['PS2_age'] = PS2_age\n",
        "  df['PS2_country'] = PS2_country\n",
        "  df['PS2_hand'] = PS2_hand\n",
        "  df['PS2_height'] = PS2_height\n",
        "  df['PS2_points'] = PS2_points\n",
        "  df['PS2_rank'] = PS2_rank\n",
        "  missing_data = missing_values(df)\n",
        "  nans = [ idx  for idx,row in missing_data.iterrows()  if (row['Percent'] != 0) ]\n",
        "  print(nans)\n",
        "  for column in nans : \n",
        "    Random_sampling(df,column)\n",
        "  target = prepare_target(df)\n",
        "  df.drop('winner_name',axis=1,inplace=True)\n",
        "  df['winner'] = target\n",
        "  df1 = pd.concat([df1,df])"
      ],
      "execution_count": null,
      "outputs": [
        {
          "output_type": "stream",
          "text": [
            "1462it [00:02, 489.08it/s]\n"
          ],
          "name": "stderr"
        },
        {
          "output_type": "stream",
          "text": [
            "['PS2_height', 'PS1_height', 'PS2_rank', 'PS2_points', 'PS1_rank', 'PS1_points', 'PS1_age', 'PS2_hand', 'PS2_age', 'PS1_hand']\n"
          ],
          "name": "stdout"
        },
        {
          "output_type": "stream",
          "text": [
            "1848it [00:03, 533.15it/s]\n"
          ],
          "name": "stderr"
        },
        {
          "output_type": "stream",
          "text": [
            "['PS2_height', 'PS1_height', 'PS2_rank', 'PS2_points', 'PS1_rank', 'PS1_points']\n"
          ],
          "name": "stdout"
        },
        {
          "output_type": "display_data",
          "data": {
            "image/png": "[encoded data removed]",
            "text/plain": [
              "<Figure size 1080x432 with 1 Axes>"
            ]
          },
          "metadata": {
            "tags": [],
            "needs_background": "light"
          }
        },
        {
          "output_type": "display_data",
          "data": {
            "image/png": "[encoded data removed]",
            "text/plain": [
              "<Figure size 1080x432 with 1 Axes>"
            ]
          },
          "metadata": {
            "tags": [],
            "needs_background": "light"
          }
        }
      ]
    },
    {
      "cell_type": "code",
      "metadata": {
        "id": "uNZMGAyaGp2Z"
      },
      "source": [
        "df1.to_csv('Tennis.csv')"
      ],
      "execution_count": null,
      "outputs": []
    },
    {
      "cell_type": "markdown",
      "metadata": {
        "id": "fHvvAw0RGxYc"
      },
      "source": [
        "Saving"
      ]
    },
    {
      "cell_type": "code",
      "metadata": {
        "id": "Mu-tF_fmKU3S"
      },
      "source": [
        ""
      ],
      "execution_count": null,
      "outputs": []
    },
    {
      "cell_type": "code",
      "metadata": {
        "id": "qfgfu661IPmh"
      },
      "source": [
        "# df.to_csv('Tennis.csv')"
      ],
      "execution_count": null,
      "outputs": []
    },
    {
      "cell_type": "code",
      "metadata": {
        "id": "YBJI55V_tteV"
      },
      "source": [
        "# df = load('/content/drive/MyDrive/Tennis.csv')"
      ],
      "execution_count": null,
      "outputs": []
    },
    {
      "cell_type": "code",
      "metadata": {
        "id": "4wEGO4hKt4Or"
      },
      "source": [
        "# df.drop('Unnamed: 0' , axis= 1 ,inplace=True) "
      ],
      "execution_count": null,
      "outputs": []
    },
    {
      "cell_type": "markdown",
      "metadata": {
        "id": "9UJjegLXz7cy"
      },
      "source": [
        "Splitting "
      ]
    },
    {
      "cell_type": "code",
      "metadata": {
        "colab": {
          "base_uri": "https://localhost:8080/"
        },
        "id": "9k3KhjH_0KOl",
        "outputId": "0cde3a1e-4363-43ee-d39d-521ad3f3da34"
      },
      "source": [
        "df1.shape"
      ],
      "execution_count": null,
      "outputs": [
        {
          "output_type": "execute_result",
          "data": {
            "text/plain": [
              "(3310, 24)"
            ]
          },
          "metadata": {
            "tags": []
          },
          "execution_count": 131
        }
      ]
    },
    {
      "cell_type": "code",
      "metadata": {
        "id": "yKClg1vc0Anx"
      },
      "source": [
        "def splitting_data (df) : \n",
        "  df = df.sample(frac=1).reset_index(drop=True)\n",
        "  train,test = df[:2700] , df[2700:]\n",
        "  return train,test\n"
      ],
      "execution_count": null,
      "outputs": []
    },
    {
      "cell_type": "code",
      "metadata": {
        "id": "bWo6MnC50QF1"
      },
      "source": [
        "train,test = splitting_data (df1)"
      ],
      "execution_count": null,
      "outputs": []
    },
    {
      "cell_type": "code",
      "metadata": {
        "colab": {
          "base_uri": "https://localhost:8080/"
        },
        "id": "limF2g_LT7M6",
        "outputId": "16ca4868-e328-487a-e312-bb1f98571d20"
      },
      "source": [
        "test.shape"
      ],
      "execution_count": null,
      "outputs": [
        {
          "output_type": "execute_result",
          "data": {
            "text/plain": [
              "(610, 24)"
            ]
          },
          "metadata": {
            "tags": []
          },
          "execution_count": 134
        }
      ]
    },
    {
      "cell_type": "markdown",
      "metadata": {
        "id": "I7bqI9XuzEW2"
      },
      "source": [
        "Model"
      ]
    },
    {
      "cell_type": "code",
      "metadata": {
        "id": "xYFpnySWullL"
      },
      "source": [
        "_ , non_num = features_type (df1.drop('winner',axis=1)) "
      ],
      "execution_count": null,
      "outputs": []
    },
    {
      "cell_type": "code",
      "metadata": {
        "id": "Jj6A_LJVUJgz"
      },
      "source": [
        "# non_num.pop(2)\n",
        "# non_num.pop(3)\n",
        "# non_num.pop(3)"
      ],
      "execution_count": null,
      "outputs": []
    },
    {
      "cell_type": "code",
      "metadata": {
        "colab": {
          "base_uri": "https://localhost:8080/"
        },
        "id": "sU5S4H9TUSLR",
        "outputId": "19ee9b1f-6cd5-4120-a745-e39cb8a93de3"
      },
      "source": [
        "non_num"
      ],
      "execution_count": null,
      "outputs": [
        {
          "output_type": "execute_result",
          "data": {
            "text/plain": [
              "['tourney_name',\n",
              " 'surface',\n",
              " 'draw_size',\n",
              " 'tourney_level',\n",
              " 'tourney_date',\n",
              " 'match_num',\n",
              " 'best_of',\n",
              " 'round',\n",
              " 'Match',\n",
              " 'Player_Side1',\n",
              " 'Player_Side2',\n",
              " 'PS1_country',\n",
              " 'PS1_hand',\n",
              " 'PS2_country',\n",
              " 'PS2_hand']"
            ]
          },
          "metadata": {
            "tags": []
          },
          "execution_count": 137
        }
      ]
    },
    {
      "cell_type": "code",
      "metadata": {
        "id": "zJlQikkLx07w"
      },
      "source": [
        "\n",
        "class CFG_Catboost :\n",
        "  SEED = 42\n",
        "  n_splits = 5\n",
        "  \n",
        "  catboost_params = {'learning_rate':0.15,'iterations':10000,'eval_metric':'Accuracy',\n",
        "                      'use_best_model' :True,'verbose':100,'random_seed': 0,'max_depth':7}\n",
        "  remove_features = ['winner']\n",
        "  categ_features = non_num\n",
        "  TARGET_COL = 'winner'"
      ],
      "execution_count": null,
      "outputs": []
    },
    {
      "cell_type": "code",
      "metadata": {
        "id": "hpT97D7RQXcw"
      },
      "source": [
        "def features_utils (train):\n",
        "  features_columns = [col for col in train.columns if col not in CFG_Catboost.remove_features]\n",
        "  return features_columns"
      ],
      "execution_count": null,
      "outputs": []
    },
    {
      "cell_type": "code",
      "metadata": {
        "id": "O4pPGYwVQXhu"
      },
      "source": [
        "features_columns = features_utils (train)"
      ],
      "execution_count": null,
      "outputs": []
    },
    {
      "cell_type": "code",
      "metadata": {
        "id": "R62YLNeiQXkI"
      },
      "source": [
        "def divide_train (train):\n",
        "  skf = StratifiedKFold(n_splits=CFG_Catboost.n_splits,shuffle=True, random_state=CFG_Catboost.SEED)\n",
        "  X , y   = train[features_columns] , train[CFG_Catboost.TARGET_COL]\n",
        "  return X,y,skf"
      ],
      "execution_count": null,
      "outputs": []
    },
    {
      "cell_type": "code",
      "metadata": {
        "id": "wPpK_ij_329H"
      },
      "source": [
        "from sklearn.model_selection import StratifiedKFold\n",
        "X,y,skf= divide_train (train)"
      ],
      "execution_count": null,
      "outputs": []
    },
    {
      "cell_type": "code",
      "metadata": {
        "id": "GxH_-ceIQ2EA"
      },
      "source": [
        "def StratifiedKFold_Train(X,y):\n",
        "  # oof_cat = np.zeros((train.shape[0],))\n",
        "  test['target'] = 0\n",
        "  cat_preds= []\n",
        "  for fold_, (trn_idx, val_idx) in enumerate(skf.split(X,y)):\n",
        "      print(50*'-')\n",
        "      print('Fold:',fold_+1)\n",
        "      X_train, y_train = X.iloc[trn_idx,:], y[trn_idx] \n",
        "      X_test, y_test = X.iloc[val_idx,:], y[val_idx] \n",
        "        \n",
        "      estimator = CatBoostClassifier(**CFG_Catboost.catboost_params)\n",
        "      estimator.fit(Pool(X_train,y_train,cat_features = CFG_Catboost.categ_features),\n",
        "                    eval_set = Pool(X_test,y_test,cat_features = CFG_Catboost.categ_features),\n",
        "                    early_stopping_rounds=200)\n",
        "  \n",
        "      y_pred_test = estimator.predict(test[features_columns])\n",
        "      cat_preds.append(y_pred_test)\n",
        "      print(50*'-')\n",
        "      print()\n",
        "  catboost_preds = np.mean(cat_preds,axis=0)\n",
        "  return catboost_preds\n"
      ],
      "execution_count": null,
      "outputs": []
    },
    {
      "cell_type": "code",
      "metadata": {
        "id": "yNuK7AXkQ2HO"
      },
      "source": [
        "# !pip install catboost==0.22 --quiet\n"
      ],
      "execution_count": null,
      "outputs": []
    },
    {
      "cell_type": "code",
      "metadata": {
        "colab": {
          "base_uri": "https://localhost:8080/"
        },
        "id": "gE8RvDEVRDQK",
        "outputId": "b2426b5a-099f-4396-a3a3-6e95888136ba"
      },
      "source": [
        "from catboost import CatBoostClassifier ,Pool\n",
        "import numpy as np\n",
        "catboost_preds = StratifiedKFold_Train(X,y)"
      ],
      "execution_count": null,
      "outputs": [
        {
          "output_type": "stream",
          "text": [
            "--------------------------------------------------\n",
            "Fold: 1\n",
            "0:\tlearn: 0.6148148\ttest: 0.5870370\tbest: 0.5870370 (0)\ttotal: 27.8ms\tremaining: 4m 37s\n",
            "100:\tlearn: 0.9388889\ttest: 0.7537037\tbest: 0.7666667 (88)\ttotal: 2.57s\tremaining: 4m 11s\n",
            "200:\tlearn: 0.9939815\ttest: 0.7555556\tbest: 0.7666667 (88)\ttotal: 5.13s\tremaining: 4m 10s\n",
            "Stopped by overfitting detector  (200 iterations wait)\n",
            "\n",
            "bestTest = 0.7666666667\n",
            "bestIteration = 88\n",
            "\n",
            "Shrink model to first 89 iterations.\n",
            "--------------------------------------------------\n",
            "\n",
            "--------------------------------------------------\n",
            "Fold: 2\n",
            "0:\tlearn: 0.6296296\ttest: 0.5888889\tbest: 0.5888889 (0)\ttotal: 25.4ms\tremaining: 4m 14s\n",
            "100:\tlearn: 0.9375000\ttest: 0.7259259\tbest: 0.7481481 (59)\ttotal: 2.46s\tremaining: 4m 1s\n",
            "200:\tlearn: 0.9916667\ttest: 0.7296296\tbest: 0.7481481 (59)\ttotal: 4.96s\tremaining: 4m 1s\n",
            "Stopped by overfitting detector  (200 iterations wait)\n",
            "\n",
            "bestTest = 0.7481481481\n",
            "bestIteration = 59\n",
            "\n",
            "Shrink model to first 60 iterations.\n",
            "--------------------------------------------------\n",
            "\n",
            "--------------------------------------------------\n",
            "Fold: 3\n",
            "0:\tlearn: 0.6425926\ttest: 0.6000000\tbest: 0.6000000 (0)\ttotal: 25.7ms\tremaining: 4m 16s\n",
            "100:\tlearn: 0.9365741\ttest: 0.7500000\tbest: 0.7629630 (89)\ttotal: 2.51s\tremaining: 4m 5s\n",
            "200:\tlearn: 0.9925926\ttest: 0.7333333\tbest: 0.7629630 (89)\ttotal: 5.07s\tremaining: 4m 6s\n",
            "Stopped by overfitting detector  (200 iterations wait)\n",
            "\n",
            "bestTest = 0.762962963\n",
            "bestIteration = 89\n",
            "\n",
            "Shrink model to first 90 iterations.\n",
            "--------------------------------------------------\n",
            "\n",
            "--------------------------------------------------\n",
            "Fold: 4\n",
            "0:\tlearn: 0.6319444\ttest: 0.6018519\tbest: 0.6018519 (0)\ttotal: 22.1ms\tremaining: 3m 40s\n",
            "100:\tlearn: 0.9518519\ttest: 0.7444444\tbest: 0.7537037 (79)\ttotal: 2.46s\tremaining: 4m 1s\n",
            "200:\tlearn: 0.9981481\ttest: 0.7351852\tbest: 0.7611111 (111)\ttotal: 4.98s\tremaining: 4m 2s\n",
            "300:\tlearn: 0.9995370\ttest: 0.7166667\tbest: 0.7611111 (111)\ttotal: 7.47s\tremaining: 4m\n",
            "Stopped by overfitting detector  (200 iterations wait)\n",
            "\n",
            "bestTest = 0.7611111111\n",
            "bestIteration = 111\n",
            "\n",
            "Shrink model to first 112 iterations.\n",
            "--------------------------------------------------\n",
            "\n",
            "--------------------------------------------------\n",
            "Fold: 5\n",
            "0:\tlearn: 0.6365741\ttest: 0.5925926\tbest: 0.5925926 (0)\ttotal: 25.6ms\tremaining: 4m 16s\n",
            "100:\tlearn: 0.9458333\ttest: 0.7277778\tbest: 0.7296296 (97)\ttotal: 2.5s\tremaining: 4m 5s\n",
            "200:\tlearn: 0.9939815\ttest: 0.7092593\tbest: 0.7296296 (97)\ttotal: 4.97s\tremaining: 4m 2s\n",
            "Stopped by overfitting detector  (200 iterations wait)\n",
            "\n",
            "bestTest = 0.7296296296\n",
            "bestIteration = 97\n",
            "\n",
            "Shrink model to first 98 iterations.\n",
            "--------------------------------------------------\n",
            "\n"
          ],
          "name": "stdout"
        }
      ]
    },
    {
      "cell_type": "code",
      "metadata": {
        "id": "U-w4g_Xjztuz",
        "colab": {
          "base_uri": "https://localhost:8080/"
        },
        "outputId": "0adbde0b-8113-4d52-c892-a51b7f7312ee"
      },
      "source": [
        "from sklearn.metrics import accuracy_score\n",
        "accuracy_score(catboost_preds.astype('int64'),test.winner)"
      ],
      "execution_count": null,
      "outputs": [
        {
          "output_type": "execute_result",
          "data": {
            "text/plain": [
              "0.7262295081967213"
            ]
          },
          "metadata": {
            "tags": []
          },
          "execution_count": 174
        }
      ]
    },
    {
      "cell_type": "code",
      "metadata": {
        "id": "dsxJZwk84BNk"
      },
      "source": [
        ""
      ],
      "execution_count": null,
      "outputs": []
    }
  ]
}